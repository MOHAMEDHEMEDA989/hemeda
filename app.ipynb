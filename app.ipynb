{
  "nbformat": 4,
  "nbformat_minor": 0,
  "metadata": {
    "colab": {
      "provenance": [],
      "mount_file_id": "1aqe_THDYGCrZlpEJ4qeuWXt31VjlPdaz",
      "authorship_tag": "ABX9TyM4hHYEBO3v5RLuXbVqn6nD",
      "include_colab_link": true
    },
    "kernelspec": {
      "name": "python3",
      "display_name": "Python 3"
    },
    "language_info": {
      "name": "python"
    },
    "accelerator": "GPU",
    "gpuClass": "standard"
  },
  "cells": [
    {
      "cell_type": "markdown",
      "metadata": {
        "id": "view-in-github",
        "colab_type": "text"
      },
      "source": [
        "<a href=\"https://colab.research.google.com/github/MOHAMEDHEMEDA989/hemeda/blob/main/app.ipynb\" target=\"_parent\"><img src=\"https://colab.research.google.com/assets/colab-badge.svg\" alt=\"Open In Colab\"/></a>"
      ]
    },
    {
      "cell_type": "markdown",
      "source": [
        "calculator"
      ],
      "metadata": {
        "id": "oeQi99m2zdQ2"
      }
    },
    {
      "cell_type": "code",
      "source": [
        "num1=float(input(\"enter the first number:  \"))\n",
        "operator=input(\"please enter the operator:  \")\n",
        "num2=float(input(\"enter the second number:  \"))\n",
        "if operator ==(\"+\"):\n",
        "    print(num1+num2)\n",
        "elif operator ==(\"-\"):\n",
        "    print(num1-num2)\n",
        "elif operator==(\"*\"):\n",
        "    print(num1*num2)\n",
        "elif operator==(\"/\"):\n",
        "    print(num1/num2)\n",
        "else:\n",
        "    print(\"please try again\")"
      ],
      "metadata": {
        "id": "AFvK5l2pzSuF"
      },
      "execution_count": null,
      "outputs": []
    },
    {
      "cell_type": "code",
      "source": [
        "!pip install ipywidgets\n",
        "!jupyter nbextension enable --py widgetsnbextension"
      ],
      "metadata": {
        "id": "QIB2qx5ihBrc"
      },
      "execution_count": null,
      "outputs": []
    },
    {
      "cell_type": "code",
      "source": [
        "import ipywidgets as widgets\n",
        "from IPython.display import display\n",
        "import math\n",
        "\n",
        "\n",
        "num1 = widgets.FloatText(description='num1: ')\n",
        "num2 = widgets.FloatText(description='num2: ')\n",
        "add_button = widgets.Button(description='add')\n",
        "sub_button = widgets.Button(description='sum')\n",
        "mul_button = widgets.Button(description='mul')\n",
        "div_button = widgets.Button(description='div')\n",
        "square_button=widgets.Button(description='square')\n",
        "sqrt_button=widgets.Button(description='sqrt')\n",
        "output = widgets.Label()\n",
        "\n",
        "\n",
        "def add_clicked(b):\n",
        "    result = num1.value + num2.value\n",
        "    output.value = str(result)\n",
        "\n",
        "def sub_clicked(b):\n",
        "    result = num1.value - num2.value\n",
        "    output.value = str(result)\n",
        "\n",
        "def mul_clicked(b):\n",
        "    result = num1.value * num2.value\n",
        "    output.value = str(result)\n",
        "\n",
        "def square_clicked(b):\n",
        "    result = num1.value * num1.value\n",
        "    output.value = str(result)\n",
        "\n",
        "def sqrt_clicked(b):\n",
        "    result = math.sqrt(num1.value)\n",
        "    output.value = str(result)\n",
        "\n",
        "def div_clicked(b):\n",
        "    if num2.value != 0:\n",
        "        result = num1.value / num2.value\n",
        "        output.value = str(result)\n",
        "    else:\n",
        "        output.value = 'It cannot be divided by zero'\n",
        "\n",
        "        \n",
        "add_button.on_click(add_clicked)\n",
        "sub_button.on_click(sub_clicked)\n",
        "mul_button.on_click(mul_clicked)\n",
        "div_button.on_click(div_clicked)\n",
        "square_button.on_click(square_clicked)\n",
        "sqrt_button.on_click(sqrt_clicked)\n",
        "\n",
        "display(num1, num2, add_button, sub_button, mul_button, div_button,square_button,sqrt_button ,output)"
      ],
      "metadata": {
        "id": "8IaGgoq4hPwb"
      },
      "execution_count": null,
      "outputs": []
    },
    {
      "cell_type": "markdown",
      "source": [
        "matplotlib"
      ],
      "metadata": {
        "id": "1etpBsPDztJ6"
      }
    },
    {
      "cell_type": "code",
      "source": [
        "import matplotlib.pyplot as plt\n",
        "\n",
        "\n",
        "x = [1, 2, 3, 4, 5]\n",
        "y = [2, 4, 5, 7, 6]\n",
        "\n",
        "\n",
        "plt.plot(x, y)\n",
        "\n",
        "\n",
        "plt.xlabel(\"x axis\")\n",
        "plt.ylabel(\"y axis\")\n",
        "\n",
        "\n",
        "plt.title(\"figure 1\")\n",
        "\n",
        "\n",
        "plt.show()"
      ],
      "metadata": {
        "id": "LQEMD_tDzh1J"
      },
      "execution_count": null,
      "outputs": []
    },
    {
      "cell_type": "markdown",
      "source": [
        "calories measure"
      ],
      "metadata": {
        "id": "1hrSv-mCs6GR"
      }
    }
  ]
}